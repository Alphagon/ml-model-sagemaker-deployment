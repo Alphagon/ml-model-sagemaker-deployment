{
 "cells": [
  {
   "cell_type": "markdown",
   "id": "67134d0b",
   "metadata": {},
   "source": [
    "# Endpoint Creation"
   ]
  },
  {
   "cell_type": "code",
   "execution_count": 1,
   "id": "3684e883",
   "metadata": {},
   "outputs": [
    {
     "name": "stdout",
     "output_type": "stream",
     "text": [
      "sagemaker.config INFO - Not applying SDK defaults from location: /etc/xdg/xdg-ubuntu/sagemaker/config.yaml\n",
      "sagemaker.config INFO - Not applying SDK defaults from location: /home/yravi/.config/sagemaker/config.yaml\n"
     ]
    }
   ],
   "source": [
    "from sagemaker.huggingface.model import HuggingFaceModel"
   ]
  },
  {
   "cell_type": "code",
   "execution_count": 2,
   "id": "ea9220ce",
   "metadata": {},
   "outputs": [],
   "source": [
    "role = \"arn:aws:iam::011528263565:role/dev\" # Past the ARN of the role created\n",
    "endpoint_name = \"fastapi-sentiment-classifier\" # Name the endpoint"
   ]
  },
  {
   "cell_type": "code",
   "execution_count": 3,
   "id": "eff9902f",
   "metadata": {},
   "outputs": [],
   "source": [
    "# create Hugging Face Model Class\n",
    "huggingface_model = HuggingFaceModel(\n",
    "   model_data=\"s3://sentiment-classification-fastapi/model.tar.gz\",  # path to your trained SageMaker model\n",
    "   role=role,                                            # IAM role with permissions to create an endpoint\n",
    "   transformers_version=\"4.26\",                           # Mention the Transformers version used\n",
    "   pytorch_version=\"1.13\",                                # PyTorch version used\n",
    "   py_version='py39',                                    # And Python version used\n",
    ")"
   ]
  },
  {
   "cell_type": "code",
   "execution_count": 4,
   "id": "f2df94a2",
   "metadata": {},
   "outputs": [
    {
     "name": "stdout",
     "output_type": "stream",
     "text": [
      "-----!Model deployed at endpoint: fastapi-sentiment-classifier\n"
     ]
    }
   ],
   "source": [
    "# deploy model to SageMaker Inference\n",
    "predictor = huggingface_model.deploy(\n",
    "   initial_instance_count=1,\n",
    "   instance_type=\"ml.m5.xlarge\",\n",
    "   endpoint_name= endpoint_name\n",
    ")\n",
    "\n",
    "# Print the endpoint name\n",
    "print(f'Model deployed at endpoint: {predictor.endpoint_name}')"
   ]
  },
  {
   "cell_type": "markdown",
   "id": "e22e70e3",
   "metadata": {},
   "source": [
    "# Inference"
   ]
  },
  {
   "cell_type": "code",
   "execution_count": 8,
   "id": "b4505681",
   "metadata": {},
   "outputs": [],
   "source": [
    "import boto3\n",
    "import json"
   ]
  },
  {
   "cell_type": "code",
   "execution_count": 6,
   "id": "4f60df71",
   "metadata": {},
   "outputs": [],
   "source": [
    "endpoint_name = \"fastapi-sentiment-classifier\" \n",
    "boto_session = boto3.Session(region_name='ap-south-1')\n",
    "sagemaker_runtime = boto_session.client('sagemaker-runtime')"
   ]
  },
  {
   "cell_type": "code",
   "execution_count": 9,
   "id": "e918931f",
   "metadata": {},
   "outputs": [
    {
     "name": "stdout",
     "output_type": "stream",
     "text": [
      "Prediction result: [{\"label\":\"NEU\",\"score\":0.993026614189148}]\n"
     ]
    }
   ],
   "source": [
    "\n",
    "input_data = {\n",
    "   \"inputs\": \"Camera - You are awarded a SiPix Digital Camera! call 09061221066 fromm landline. Delivery within 28 days.\"\n",
    "}\n",
    "\n",
    "payload = json.dumps(input_data)\n",
    "\n",
    "# Make the prediction\n",
    "response = sagemaker_runtime.invoke_endpoint(\n",
    "    EndpointName=endpoint_name,\n",
    "    Body=payload,\n",
    "    ContentType='application/json'  # Set the content type to JSON\n",
    ")\n",
    "\n",
    "result = response['Body'].read().decode('utf-8')\n",
    "print(\"Prediction result:\", result)"
   ]
  }
 ],
 "metadata": {
  "kernelspec": {
   "display_name": "onelab",
   "language": "python",
   "name": "onelab"
  },
  "language_info": {
   "codemirror_mode": {
    "name": "ipython",
    "version": 3
   },
   "file_extension": ".py",
   "mimetype": "text/x-python",
   "name": "python",
   "nbconvert_exporter": "python",
   "pygments_lexer": "ipython3",
   "version": "3.11.5"
  }
 },
 "nbformat": 4,
 "nbformat_minor": 5
}
